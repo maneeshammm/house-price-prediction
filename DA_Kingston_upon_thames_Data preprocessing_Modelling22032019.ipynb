{
 "cells": [
  {
   "cell_type": "code",
   "execution_count": 2,
   "metadata": {},
   "outputs": [],
   "source": [
    "import numpy as np\n",
    "import pandas as pd\n",
    "import seaborn as sns\n",
    "import matplotlib.pyplot as plt\n",
    "\n",
    "#for some statistics\n",
    "from scipy import stats\n",
    "from scipy.stats import norm, skew \n",
    "\n",
    "#preprocessing\n",
    "from sklearn.preprocessing import StandardScaler\n",
    "from sklearn.metrics import confusion_matrix\n",
    "\n",
    "# Model reduction\n",
    "from sklearn.decomposition import PCA\n",
    "from sklearn.feature_selection import SelectKBest\n",
    "\n",
    "# Pipeline\n",
    "from sklearn.base import TransformerMixin,BaseEstimator, RegressorMixin\n",
    "from sklearn.pipeline import Pipeline\n",
    "\n",
    "# Regressors \n",
    "from sklearn import linear_model\n",
    "from sklearn.linear_model import Ridge, ElasticNet, Lasso,  BayesianRidge, LassoLarsIC, LinearRegression\n",
    "from sklearn.ensemble import RandomForestRegressor\n",
    "from sklearn.kernel_ridge import KernelRidge\n",
    "from sklearn.ensemble import GradientBoostingRegressor\n",
    "import xgboost as xgb\n",
    "\n",
    "# Model selection and validation\n",
    "from sklearn.model_selection import train_test_split\n",
    "from sklearn.model_selection import  GridSearchCV, RandomizedSearchCV, cross_validate\n",
    "from sklearn.metrics import mean_absolute_error, mean_squared_error, r2_score\n",
    "from sklearn.model_selection import cross_val_score\n",
    "\n",
    "import warnings\n",
    "warnings.filterwarnings(\"ignore\")\n",
    "\n",
    "np.random.seed(123)\n",
    "#The numpy.random.seed() makes the random numbers predictable and is used for reproducibility"
   ]
  },
  {
   "cell_type": "code",
   "execution_count": 3,
   "metadata": {},
   "outputs": [
    {
     "data": {
      "text/html": [
       "<div>\n",
       "<style scoped>\n",
       "    .dataframe tbody tr th:only-of-type {\n",
       "        vertical-align: middle;\n",
       "    }\n",
       "\n",
       "    .dataframe tbody tr th {\n",
       "        vertical-align: top;\n",
       "    }\n",
       "\n",
       "    .dataframe thead th {\n",
       "        text-align: right;\n",
       "    }\n",
       "</style>\n",
       "<table border=\"1\" class=\"dataframe\">\n",
       "  <thead>\n",
       "    <tr style=\"text-align: right;\">\n",
       "      <th></th>\n",
       "      <th>Address</th>\n",
       "      <th>Postcode</th>\n",
       "      <th>KT1_KT2</th>\n",
       "      <th>Sale_price</th>\n",
       "      <th>Bedrooms</th>\n",
       "      <th>House_type</th>\n",
       "      <th>Freehold_leasehold</th>\n",
       "      <th>Res_new_old</th>\n",
       "      <th>Stationdist_miles</th>\n",
       "      <th>Sale_date</th>\n",
       "      <th>Sale_year</th>\n",
       "      <th>Sale_month</th>\n",
       "      <th>Latitude</th>\n",
       "      <th>Longitude</th>\n",
       "      <th>Easting</th>\n",
       "      <th>Northing</th>\n",
       "      <th>Ward</th>\n",
       "      <th>Altitude</th>\n",
       "    </tr>\n",
       "  </thead>\n",
       "  <tbody>\n",
       "    <tr>\n",
       "      <th>0</th>\n",
       "      <td>Flat 40, Elder House, 4, Water Lane</td>\n",
       "      <td>KT1 1AE</td>\n",
       "      <td>KT1</td>\n",
       "      <td>435000</td>\n",
       "      <td>2</td>\n",
       "      <td>Flat</td>\n",
       "      <td>Leasehold</td>\n",
       "      <td>Residential</td>\n",
       "      <td>0.4</td>\n",
       "      <td>05-Oct-15</td>\n",
       "      <td>2015</td>\n",
       "      <td>10</td>\n",
       "      <td>51.412605</td>\n",
       "      <td>-0.307355</td>\n",
       "      <td>517812</td>\n",
       "      <td>169535</td>\n",
       "      <td>Grove</td>\n",
       "      <td>9</td>\n",
       "    </tr>\n",
       "    <tr>\n",
       "      <th>1</th>\n",
       "      <td>Flat 50, Elder House, 4, Water Lane</td>\n",
       "      <td>KT1 1AE</td>\n",
       "      <td>KT1</td>\n",
       "      <td>1295000</td>\n",
       "      <td>4</td>\n",
       "      <td>Flat</td>\n",
       "      <td>Leasehold</td>\n",
       "      <td>Residential</td>\n",
       "      <td>0.4</td>\n",
       "      <td>05-Feb-16</td>\n",
       "      <td>2016</td>\n",
       "      <td>2</td>\n",
       "      <td>51.412605</td>\n",
       "      <td>-0.307355</td>\n",
       "      <td>517812</td>\n",
       "      <td>169535</td>\n",
       "      <td>Grove</td>\n",
       "      <td>9</td>\n",
       "    </tr>\n",
       "    <tr>\n",
       "      <th>2</th>\n",
       "      <td>Flat 35, Elder House, 4, Water Lane</td>\n",
       "      <td>KT1 1AE</td>\n",
       "      <td>KT1</td>\n",
       "      <td>550000</td>\n",
       "      <td>2</td>\n",
       "      <td>Flat</td>\n",
       "      <td>Leasehold</td>\n",
       "      <td>Residential</td>\n",
       "      <td>0.4</td>\n",
       "      <td>19-Oct-17</td>\n",
       "      <td>2017</td>\n",
       "      <td>10</td>\n",
       "      <td>51.412605</td>\n",
       "      <td>-0.307355</td>\n",
       "      <td>517812</td>\n",
       "      <td>169535</td>\n",
       "      <td>Grove</td>\n",
       "      <td>9</td>\n",
       "    </tr>\n",
       "    <tr>\n",
       "      <th>3</th>\n",
       "      <td>Flat 47, Elder House, 4, Water Lane</td>\n",
       "      <td>KT1 1AE</td>\n",
       "      <td>KT1</td>\n",
       "      <td>550000</td>\n",
       "      <td>5</td>\n",
       "      <td>Flat</td>\n",
       "      <td>Leasehold</td>\n",
       "      <td>Residential</td>\n",
       "      <td>0.4</td>\n",
       "      <td>20-Apr-18</td>\n",
       "      <td>2018</td>\n",
       "      <td>4</td>\n",
       "      <td>51.412605</td>\n",
       "      <td>-0.307355</td>\n",
       "      <td>517812</td>\n",
       "      <td>169535</td>\n",
       "      <td>Grove</td>\n",
       "      <td>9</td>\n",
       "    </tr>\n",
       "    <tr>\n",
       "      <th>4</th>\n",
       "      <td>Flat 1, Elder House, 4, Water Lane</td>\n",
       "      <td>KT1 1AE</td>\n",
       "      <td>KT1</td>\n",
       "      <td>143750</td>\n",
       "      <td>2</td>\n",
       "      <td>Flat</td>\n",
       "      <td>Leasehold</td>\n",
       "      <td>Residential</td>\n",
       "      <td>0.4</td>\n",
       "      <td>06-Oct-16</td>\n",
       "      <td>2016</td>\n",
       "      <td>10</td>\n",
       "      <td>51.412605</td>\n",
       "      <td>-0.307355</td>\n",
       "      <td>517812</td>\n",
       "      <td>169535</td>\n",
       "      <td>Grove</td>\n",
       "      <td>9</td>\n",
       "    </tr>\n",
       "  </tbody>\n",
       "</table>\n",
       "</div>"
      ],
      "text/plain": [
       "                               Address Postcode KT1_KT2  Sale_price  Bedrooms  \\\n",
       "0  Flat 40, Elder House, 4, Water Lane  KT1 1AE     KT1      435000         2   \n",
       "1  Flat 50, Elder House, 4, Water Lane  KT1 1AE     KT1     1295000         4   \n",
       "2  Flat 35, Elder House, 4, Water Lane  KT1 1AE     KT1      550000         2   \n",
       "3  Flat 47, Elder House, 4, Water Lane  KT1 1AE     KT1      550000         5   \n",
       "4   Flat 1, Elder House, 4, Water Lane  KT1 1AE     KT1      143750         2   \n",
       "\n",
       "  House_type Freehold_leasehold  Res_new_old  Stationdist_miles  Sale_date  \\\n",
       "0       Flat          Leasehold  Residential                0.4  05-Oct-15   \n",
       "1       Flat          Leasehold  Residential                0.4  05-Feb-16   \n",
       "2       Flat          Leasehold  Residential                0.4  19-Oct-17   \n",
       "3       Flat          Leasehold  Residential                0.4  20-Apr-18   \n",
       "4       Flat          Leasehold  Residential                0.4  06-Oct-16   \n",
       "\n",
       "   Sale_year  Sale_month   Latitude  Longitude  Easting  Northing   Ward  \\\n",
       "0       2015          10  51.412605  -0.307355   517812    169535  Grove   \n",
       "1       2016           2  51.412605  -0.307355   517812    169535  Grove   \n",
       "2       2017          10  51.412605  -0.307355   517812    169535  Grove   \n",
       "3       2018           4  51.412605  -0.307355   517812    169535  Grove   \n",
       "4       2016          10  51.412605  -0.307355   517812    169535  Grove   \n",
       "\n",
       "   Altitude  \n",
       "0         9  \n",
       "1         9  \n",
       "2         9  \n",
       "3         9  \n",
       "4         9  "
      ]
     },
     "execution_count": 3,
     "metadata": {},
     "output_type": "execute_result"
    }
   ],
   "source": [
    "#Reading the csv file and showing its shape along with first 5 rows\n",
    "data = pd.read_csv('mer.csv')\n",
    "data.head()"
   ]
  },
  {
   "cell_type": "code",
   "execution_count": 4,
   "metadata": {},
   "outputs": [
    {
     "name": "stdout",
     "output_type": "stream",
     "text": [
      "The train data size before dropping Id(Address) feature is : (3225, 18) \n"
     ]
    }
   ],
   "source": [
    "#check the numbers of samples and features\n",
    "print(\"The train data size before dropping Id(Address) feature is : {} \".format(data.shape))"
   ]
  },
  {
   "cell_type": "code",
   "execution_count": 5,
   "metadata": {},
   "outputs": [
    {
     "data": {
      "text/html": [
       "<div>\n",
       "<style scoped>\n",
       "    .dataframe tbody tr th:only-of-type {\n",
       "        vertical-align: middle;\n",
       "    }\n",
       "\n",
       "    .dataframe tbody tr th {\n",
       "        vertical-align: top;\n",
       "    }\n",
       "\n",
       "    .dataframe thead th {\n",
       "        text-align: right;\n",
       "    }\n",
       "</style>\n",
       "<table border=\"1\" class=\"dataframe\">\n",
       "  <thead>\n",
       "    <tr style=\"text-align: right;\">\n",
       "      <th></th>\n",
       "      <th>Postcode</th>\n",
       "      <th>KT1_KT2</th>\n",
       "      <th>Sale_price</th>\n",
       "      <th>Bedrooms</th>\n",
       "      <th>House_type</th>\n",
       "      <th>Freehold_leasehold</th>\n",
       "      <th>Res_new_old</th>\n",
       "      <th>Stationdist_miles</th>\n",
       "      <th>Sale_date</th>\n",
       "      <th>Sale_year</th>\n",
       "      <th>Sale_month</th>\n",
       "      <th>Latitude</th>\n",
       "      <th>Longitude</th>\n",
       "      <th>Easting</th>\n",
       "      <th>Northing</th>\n",
       "      <th>Ward</th>\n",
       "      <th>Altitude</th>\n",
       "    </tr>\n",
       "  </thead>\n",
       "  <tbody>\n",
       "    <tr>\n",
       "      <th>3220</th>\n",
       "      <td>KT2 7TU</td>\n",
       "      <td>KT2</td>\n",
       "      <td>350000</td>\n",
       "      <td>3</td>\n",
       "      <td>Flat</td>\n",
       "      <td>Leasehold</td>\n",
       "      <td>Residential</td>\n",
       "      <td>0.9</td>\n",
       "      <td>07-Dec-18</td>\n",
       "      <td>2018</td>\n",
       "      <td>12</td>\n",
       "      <td>51.421039</td>\n",
       "      <td>-0.280723</td>\n",
       "      <td>519642</td>\n",
       "      <td>170516</td>\n",
       "      <td>Coombe Hill</td>\n",
       "      <td>47</td>\n",
       "    </tr>\n",
       "    <tr>\n",
       "      <th>3221</th>\n",
       "      <td>KT2 7TW</td>\n",
       "      <td>KT2</td>\n",
       "      <td>330000</td>\n",
       "      <td>2</td>\n",
       "      <td>Flat</td>\n",
       "      <td>Leasehold</td>\n",
       "      <td>Residential</td>\n",
       "      <td>0.9</td>\n",
       "      <td>26-Feb-15</td>\n",
       "      <td>2015</td>\n",
       "      <td>2</td>\n",
       "      <td>51.418934</td>\n",
       "      <td>-0.282499</td>\n",
       "      <td>519524</td>\n",
       "      <td>170279</td>\n",
       "      <td>Coombe Hill</td>\n",
       "      <td>30</td>\n",
       "    </tr>\n",
       "    <tr>\n",
       "      <th>3222</th>\n",
       "      <td>KT2 7UA</td>\n",
       "      <td>KT2</td>\n",
       "      <td>240000</td>\n",
       "      <td>5</td>\n",
       "      <td>Flat</td>\n",
       "      <td>Leasehold</td>\n",
       "      <td>Residential</td>\n",
       "      <td>0.9</td>\n",
       "      <td>14-Sep-15</td>\n",
       "      <td>2015</td>\n",
       "      <td>9</td>\n",
       "      <td>51.413947</td>\n",
       "      <td>-0.285835</td>\n",
       "      <td>519305</td>\n",
       "      <td>169719</td>\n",
       "      <td>Canbury</td>\n",
       "      <td>18</td>\n",
       "    </tr>\n",
       "    <tr>\n",
       "      <th>3223</th>\n",
       "      <td>KT2 7UD</td>\n",
       "      <td>KT2</td>\n",
       "      <td>2650000</td>\n",
       "      <td>7</td>\n",
       "      <td>Detached</td>\n",
       "      <td>Freehold</td>\n",
       "      <td>Residential</td>\n",
       "      <td>0.9</td>\n",
       "      <td>17-Feb-17</td>\n",
       "      <td>2017</td>\n",
       "      <td>2</td>\n",
       "      <td>51.416814</td>\n",
       "      <td>-0.257641</td>\n",
       "      <td>521258</td>\n",
       "      <td>170084</td>\n",
       "      <td>Coombe Hill</td>\n",
       "      <td>40</td>\n",
       "    </tr>\n",
       "    <tr>\n",
       "      <th>3224</th>\n",
       "      <td>KT2 7XA</td>\n",
       "      <td>KT2</td>\n",
       "      <td>760000</td>\n",
       "      <td>2</td>\n",
       "      <td>Semi-Detached</td>\n",
       "      <td>Freehold</td>\n",
       "      <td>Residential</td>\n",
       "      <td>0.8</td>\n",
       "      <td>28-Sep-18</td>\n",
       "      <td>2018</td>\n",
       "      <td>9</td>\n",
       "      <td>51.415431</td>\n",
       "      <td>-0.257190</td>\n",
       "      <td>521293</td>\n",
       "      <td>169931</td>\n",
       "      <td>Coombe Hill</td>\n",
       "      <td>34</td>\n",
       "    </tr>\n",
       "  </tbody>\n",
       "</table>\n",
       "</div>"
      ],
      "text/plain": [
       "     Postcode KT1_KT2  Sale_price  Bedrooms     House_type Freehold_leasehold  \\\n",
       "3220  KT2 7TU     KT2      350000         3           Flat          Leasehold   \n",
       "3221  KT2 7TW     KT2      330000         2           Flat          Leasehold   \n",
       "3222  KT2 7UA     KT2      240000         5           Flat          Leasehold   \n",
       "3223  KT2 7UD     KT2     2650000         7       Detached           Freehold   \n",
       "3224  KT2 7XA     KT2      760000         2  Semi-Detached           Freehold   \n",
       "\n",
       "      Res_new_old  Stationdist_miles  Sale_date  Sale_year  Sale_month  \\\n",
       "3220  Residential                0.9  07-Dec-18       2018          12   \n",
       "3221  Residential                0.9  26-Feb-15       2015           2   \n",
       "3222  Residential                0.9  14-Sep-15       2015           9   \n",
       "3223  Residential                0.9  17-Feb-17       2017           2   \n",
       "3224  Residential                0.8  28-Sep-18       2018           9   \n",
       "\n",
       "       Latitude  Longitude  Easting  Northing         Ward  Altitude  \n",
       "3220  51.421039  -0.280723   519642    170516  Coombe Hill        47  \n",
       "3221  51.418934  -0.282499   519524    170279  Coombe Hill        30  \n",
       "3222  51.413947  -0.285835   519305    169719      Canbury        18  \n",
       "3223  51.416814  -0.257641   521258    170084  Coombe Hill        40  \n",
       "3224  51.415431  -0.257190   521293    169931  Coombe Hill        34  "
      ]
     },
     "execution_count": 5,
     "metadata": {},
     "output_type": "execute_result"
    }
   ],
   "source": [
    "#Save the 'Id' column\n",
    "data_ID = data['Address']\n",
    "\n",
    "#Removing the Id \n",
    "data = data.iloc[:,1::]\n",
    "\n",
    "data.tail(5)"
   ]
  },
  {
   "cell_type": "code",
   "execution_count": 6,
   "metadata": {},
   "outputs": [
    {
     "name": "stdout",
     "output_type": "stream",
     "text": [
      "\n",
      "The train data size after dropping Id(Address) feature is : (3225, 17) \n"
     ]
    }
   ],
   "source": [
    "#check again the data size after dropping the 'Address' variable\n",
    "print(\"\\nThe train data size after dropping Id(Address) feature is : {} \".format(data.shape)) "
   ]
  },
  {
   "cell_type": "code",
   "execution_count": 7,
   "metadata": {},
   "outputs": [],
   "source": [
    "#Removing the cell irrelevant for modelling and Sale_date splitted into months and year already\n",
    "del data['Sale_date']\n",
    "del data['Postcode']"
   ]
  },
  {
   "cell_type": "code",
   "execution_count": 8,
   "metadata": {},
   "outputs": [
    {
     "data": {
      "text/html": [
       "<div>\n",
       "<style scoped>\n",
       "    .dataframe tbody tr th:only-of-type {\n",
       "        vertical-align: middle;\n",
       "    }\n",
       "\n",
       "    .dataframe tbody tr th {\n",
       "        vertical-align: top;\n",
       "    }\n",
       "\n",
       "    .dataframe thead th {\n",
       "        text-align: right;\n",
       "    }\n",
       "</style>\n",
       "<table border=\"1\" class=\"dataframe\">\n",
       "  <thead>\n",
       "    <tr style=\"text-align: right;\">\n",
       "      <th></th>\n",
       "      <th>KT1_KT2</th>\n",
       "      <th>Sale_price</th>\n",
       "      <th>Bedrooms</th>\n",
       "      <th>House_type</th>\n",
       "      <th>Freehold_leasehold</th>\n",
       "      <th>Res_new_old</th>\n",
       "      <th>Stationdist_miles</th>\n",
       "      <th>Sale_year</th>\n",
       "      <th>Sale_month</th>\n",
       "      <th>Latitude</th>\n",
       "      <th>Longitude</th>\n",
       "      <th>Easting</th>\n",
       "      <th>Northing</th>\n",
       "      <th>Ward</th>\n",
       "      <th>Altitude</th>\n",
       "    </tr>\n",
       "  </thead>\n",
       "  <tbody>\n",
       "    <tr>\n",
       "      <th>3220</th>\n",
       "      <td>KT2</td>\n",
       "      <td>350000</td>\n",
       "      <td>3</td>\n",
       "      <td>Flat</td>\n",
       "      <td>Leasehold</td>\n",
       "      <td>Residential</td>\n",
       "      <td>0.9</td>\n",
       "      <td>2018</td>\n",
       "      <td>12</td>\n",
       "      <td>51.421039</td>\n",
       "      <td>-0.280723</td>\n",
       "      <td>519642</td>\n",
       "      <td>170516</td>\n",
       "      <td>Coombe Hill</td>\n",
       "      <td>47</td>\n",
       "    </tr>\n",
       "    <tr>\n",
       "      <th>3221</th>\n",
       "      <td>KT2</td>\n",
       "      <td>330000</td>\n",
       "      <td>2</td>\n",
       "      <td>Flat</td>\n",
       "      <td>Leasehold</td>\n",
       "      <td>Residential</td>\n",
       "      <td>0.9</td>\n",
       "      <td>2015</td>\n",
       "      <td>2</td>\n",
       "      <td>51.418934</td>\n",
       "      <td>-0.282499</td>\n",
       "      <td>519524</td>\n",
       "      <td>170279</td>\n",
       "      <td>Coombe Hill</td>\n",
       "      <td>30</td>\n",
       "    </tr>\n",
       "    <tr>\n",
       "      <th>3222</th>\n",
       "      <td>KT2</td>\n",
       "      <td>240000</td>\n",
       "      <td>5</td>\n",
       "      <td>Flat</td>\n",
       "      <td>Leasehold</td>\n",
       "      <td>Residential</td>\n",
       "      <td>0.9</td>\n",
       "      <td>2015</td>\n",
       "      <td>9</td>\n",
       "      <td>51.413947</td>\n",
       "      <td>-0.285835</td>\n",
       "      <td>519305</td>\n",
       "      <td>169719</td>\n",
       "      <td>Canbury</td>\n",
       "      <td>18</td>\n",
       "    </tr>\n",
       "    <tr>\n",
       "      <th>3223</th>\n",
       "      <td>KT2</td>\n",
       "      <td>2650000</td>\n",
       "      <td>7</td>\n",
       "      <td>Detached</td>\n",
       "      <td>Freehold</td>\n",
       "      <td>Residential</td>\n",
       "      <td>0.9</td>\n",
       "      <td>2017</td>\n",
       "      <td>2</td>\n",
       "      <td>51.416814</td>\n",
       "      <td>-0.257641</td>\n",
       "      <td>521258</td>\n",
       "      <td>170084</td>\n",
       "      <td>Coombe Hill</td>\n",
       "      <td>40</td>\n",
       "    </tr>\n",
       "    <tr>\n",
       "      <th>3224</th>\n",
       "      <td>KT2</td>\n",
       "      <td>760000</td>\n",
       "      <td>2</td>\n",
       "      <td>Semi-Detached</td>\n",
       "      <td>Freehold</td>\n",
       "      <td>Residential</td>\n",
       "      <td>0.8</td>\n",
       "      <td>2018</td>\n",
       "      <td>9</td>\n",
       "      <td>51.415431</td>\n",
       "      <td>-0.257190</td>\n",
       "      <td>521293</td>\n",
       "      <td>169931</td>\n",
       "      <td>Coombe Hill</td>\n",
       "      <td>34</td>\n",
       "    </tr>\n",
       "  </tbody>\n",
       "</table>\n",
       "</div>"
      ],
      "text/plain": [
       "     KT1_KT2  Sale_price  Bedrooms     House_type Freehold_leasehold  \\\n",
       "3220     KT2      350000         3           Flat          Leasehold   \n",
       "3221     KT2      330000         2           Flat          Leasehold   \n",
       "3222     KT2      240000         5           Flat          Leasehold   \n",
       "3223     KT2     2650000         7       Detached           Freehold   \n",
       "3224     KT2      760000         2  Semi-Detached           Freehold   \n",
       "\n",
       "      Res_new_old  Stationdist_miles  Sale_year  Sale_month   Latitude  \\\n",
       "3220  Residential                0.9       2018          12  51.421039   \n",
       "3221  Residential                0.9       2015           2  51.418934   \n",
       "3222  Residential                0.9       2015           9  51.413947   \n",
       "3223  Residential                0.9       2017           2  51.416814   \n",
       "3224  Residential                0.8       2018           9  51.415431   \n",
       "\n",
       "      Longitude  Easting  Northing         Ward  Altitude  \n",
       "3220  -0.280723   519642    170516  Coombe Hill        47  \n",
       "3221  -0.282499   519524    170279  Coombe Hill        30  \n",
       "3222  -0.285835   519305    169719      Canbury        18  \n",
       "3223  -0.257641   521258    170084  Coombe Hill        40  \n",
       "3224  -0.257190   521293    169931  Coombe Hill        34  "
      ]
     },
     "execution_count": 8,
     "metadata": {},
     "output_type": "execute_result"
    }
   ],
   "source": [
    "data.tail(5)"
   ]
  },
  {
   "cell_type": "code",
   "execution_count": 9,
   "metadata": {},
   "outputs": [],
   "source": [
    "#transforming Sale_year and Sale_month into categorical variables\n",
    "data['Sale_year'] =  data['Sale_year'].astype(str)\n",
    "data['Sale_month'] =data['Sale_month'].astype(str)"
   ]
  },
  {
   "cell_type": "markdown",
   "metadata": {},
   "source": [
    "# Outliers Removal\n"
   ]
  },
  {
   "cell_type": "code",
   "execution_count": 10,
   "metadata": {},
   "outputs": [
    {
     "data": {
      "image/png": "[encoded data removed]",
      "text/plain": [
       "<Figure size 432x288 with 1 Axes>"
      ]
     },
     "metadata": {},
     "output_type": "display_data"
    }
   ],
   "source": [
    "#Looking for outliers in station distance \n",
    "plt.scatter(x=data['Stationdist_miles'], y=data['Sale_price'])\n",
    "plt.ylabel('Sale_price')\n",
    "plt.xlabel('Dsitance to nearest station in miles')\n",
    "plt.show()"
   ]
  },
  {
   "cell_type": "code",
   "execution_count": 11,
   "metadata": {},
   "outputs": [],
   "source": [
    "data= data[data['Stationdist_miles'] < 4]"
   ]
  },
  {
   "cell_type": "code",
   "execution_count": 12,
   "metadata": {},
   "outputs": [
    {
     "data": {
      "text/plain": [
       "count    3223.000000\n",
       "mean        0.531430\n",
       "std         0.279735\n",
       "min         0.000000\n",
       "25%         0.300000\n",
       "50%         0.500000\n",
       "75%         0.700000\n",
       "max         1.700000\n",
       "Name: Stationdist_miles, dtype: float64"
      ]
     },
     "execution_count": 12,
     "metadata": {},
     "output_type": "execute_result"
    }
   ],
   "source": [
    "data.Stationdist_miles.describe()"
   ]
  },
  {
   "cell_type": "code",
   "execution_count": 13,
   "metadata": {},
   "outputs": [
    {
     "data": {
      "text/plain": [
       "count    3.223000e+03\n",
       "mean     6.386975e+05\n",
       "std      5.372017e+05\n",
       "min      9.375000e+04\n",
       "25%      3.600000e+05\n",
       "50%      5.150000e+05\n",
       "75%      7.600000e+05\n",
       "max      8.500000e+06\n",
       "Name: Sale_price, dtype: float64"
      ]
     },
     "execution_count": 13,
     "metadata": {},
     "output_type": "execute_result"
    }
   ],
   "source": [
    "data.Sale_price.describe()"
   ]
  },
  {
   "cell_type": "code",
   "execution_count": 14,
   "metadata": {},
   "outputs": [
    {
     "data": {
      "text/plain": [
       "Sale_price             int64\n",
       "Bedrooms               int64\n",
       "Stationdist_miles    float64\n",
       "Latitude             float64\n",
       "Longitude            float64\n",
       "Easting                int64\n",
       "Northing               int64\n",
       "Altitude               int64\n",
       "dtype: object"
      ]
     },
     "execution_count": 14,
     "metadata": {},
     "output_type": "execute_result"
    }
   ],
   "source": [
    "#all numerical columns\n",
    "data_numerical=data.select_dtypes( include=[np.number])\n",
    "data_numerical.dtypes"
   ]
  },
  {
   "cell_type": "code",
   "execution_count": 15,
   "metadata": {},
   "outputs": [
    {
     "name": "stdout",
     "output_type": "stream",
     "text": [
      "Sale_price           1.000000\n",
      "Bedrooms             0.487124\n",
      "Altitude             0.317731\n",
      "Longitude            0.299981\n",
      "Easting              0.294572\n",
      "Northing             0.250710\n",
      "Stationdist_miles    0.245850\n",
      "Name: Sale_price, dtype: float64 \n",
      "\n"
     ]
    }
   ],
   "source": [
    "corr = data_numerical.corr()\n",
    "print (corr['Sale_price'].sort_values(ascending=False)[:7], '\\n')"
   ]
  },
  {
   "cell_type": "code",
   "execution_count": 16,
   "metadata": {},
   "outputs": [
    {
     "data": {
      "text/plain": [
       "<seaborn.axisgrid.FacetGrid at 0x1d3e9a176a0>"
      ]
     },
     "execution_count": 16,
     "metadata": {},
     "output_type": "execute_result"
    },
    {
     "data": {
      "image/png": "[encoded data removed]",
      "text/plain": [
       "<Figure size 864x432 with 8 Axes>"
      ]
     },
     "metadata": {},
     "output_type": "display_data"
    }
   ],
   "source": [
    "#create numeric plots\n",
    "num = [f for f in data.columns if data.dtypes[f] != 'object']\n",
    "nd = pd.melt(data, value_vars = num)\n",
    "n1 = sns.FacetGrid (nd, col='variable', col_wrap=4, sharex=False, sharey = False)\n",
    "n1 = n1.map(sns.distplot, 'value')\n",
    "n1"
   ]
  },
  {
   "cell_type": "markdown",
   "metadata": {},
   "source": [
    "##  Transform numeric features and remove their skewness"
   ]
  },
  {
   "cell_type": "code",
   "execution_count": 17,
   "metadata": {},
   "outputs": [
    {
     "name": "stdout",
     "output_type": "stream",
     "text": [
      "\n",
      "Skew in numerical features: \n",
      "\n"
     ]
    },
    {
     "data": {
      "text/html": [
       "<div>\n",
       "<style scoped>\n",
       "    .dataframe tbody tr th:only-of-type {\n",
       "        vertical-align: middle;\n",
       "    }\n",
       "\n",
       "    .dataframe tbody tr th {\n",
       "        vertical-align: top;\n",
       "    }\n",
       "\n",
       "    .dataframe thead th {\n",
       "        text-align: right;\n",
       "    }\n",
       "</style>\n",
       "<table border=\"1\" class=\"dataframe\">\n",
       "  <thead>\n",
       "    <tr style=\"text-align: right;\">\n",
       "      <th></th>\n",
       "      <th>Skew</th>\n",
       "    </tr>\n",
       "  </thead>\n",
       "  <tbody>\n",
       "    <tr>\n",
       "      <th>Altitude</th>\n",
       "      <td>2.694851</td>\n",
       "    </tr>\n",
       "    <tr>\n",
       "      <th>Longitude</th>\n",
       "      <td>0.837172</td>\n",
       "    </tr>\n",
       "    <tr>\n",
       "      <th>Easting</th>\n",
       "      <td>0.828448</td>\n",
       "    </tr>\n",
       "    <tr>\n",
       "      <th>Bedrooms</th>\n",
       "      <td>0.649109</td>\n",
       "    </tr>\n",
       "    <tr>\n",
       "      <th>Stationdist_miles</th>\n",
       "      <td>0.648856</td>\n",
       "    </tr>\n",
       "    <tr>\n",
       "      <th>Latitude</th>\n",
       "      <td>0.121103</td>\n",
       "    </tr>\n",
       "    <tr>\n",
       "      <th>Northing</th>\n",
       "      <td>0.100345</td>\n",
       "    </tr>\n",
       "  </tbody>\n",
       "</table>\n",
       "</div>"
      ],
      "text/plain": [
       "                       Skew\n",
       "Altitude           2.694851\n",
       "Longitude          0.837172\n",
       "Easting            0.828448\n",
       "Bedrooms           0.649109\n",
       "Stationdist_miles  0.648856\n",
       "Latitude           0.121103\n",
       "Northing           0.100345"
      ]
     },
     "execution_count": 17,
     "metadata": {},
     "output_type": "execute_result"
    }
   ],
   "source": [
    "#get numeric features\n",
    "numeric_feats = [f for f in data.columns if data.dtypes[f] != object]\n",
    "numeric_feats.remove('Sale_price')\n",
    "\n",
    "\n",
    "# Check the skew of all numerical features\n",
    "skewed_feats = data[numeric_feats].apply(lambda x: skew(x.dropna())).sort_values(ascending=False)\n",
    "print(\"\\nSkew in numerical features: \\n\")\n",
    "skewness = pd.DataFrame({'Skew' :skewed_feats})\n",
    "skewness.head(10)"
   ]
  },
  {
   "cell_type": "code",
   "execution_count": 18,
   "metadata": {},
   "outputs": [],
   "source": [
    "#get numeric features\n",
    "numeric_feats = [f for f in data.columns if data.dtypes[f] != object]\n",
    "numeric_feats.remove('Sale_price')\n",
    "\n",
    "#log transform skewed numeric features:\n",
    "skewed_feats = data[numeric_feats].apply(lambda x: skew(x.dropna())) #compute skewness\n",
    "skewed_feats = skewed_feats[skewed_feats > 0.75].index\n",
    "data[skewed_feats] = np.log1p(data[skewed_feats])"
   ]
  },
  {
   "cell_type": "code",
   "execution_count": 19,
   "metadata": {},
   "outputs": [
    {
     "name": "stdout",
     "output_type": "stream",
     "text": [
      "\n",
      " mu = 638697.51 and sigma = 537118.35\n",
      "\n"
     ]
    },
    {
     "data": {
      "image/png": "[encoded data removed]",
      "text/plain": [
       "<Figure size 432x288 with 1 Axes>"
      ]
     },
     "metadata": {},
     "output_type": "display_data"
    },
    {
     "data": {
      "image/png": "[encoded data removed]",
      "text/plain": [
       "<Figure size 432x288 with 1 Axes>"
      ]
     },
     "metadata": {},
     "output_type": "display_data"
    }
   ],
   "source": [
    "sns.distplot(data['Sale_price'] , fit=norm);\n",
    "\n",
    "# Get the fitted parameters used by the function\n",
    "(mu, sigma) = norm.fit(data['Sale_price'])\n",
    "print( '\\n mu = {:.2f} and sigma = {:.2f}\\n'.format(mu, sigma))\n",
    "\n",
    "#Now plot the distribution\n",
    "plt.legend(['Normal dist. ($\\mu=$ {:.2f} and $\\sigma=$ {:.2f} )'.format(mu, sigma)],\n",
    "            loc='best')\n",
    "plt.ylabel('Frequency')\n",
    "plt.title('Sale_price distribution')\n",
    "\n",
    "#Get also the QQ-plot\n",
    "fig = plt.figure()\n",
    "res = stats.probplot(data['Sale_price'], plot=plt)\n",
    "plt.show()"
   ]
  },
  {
   "cell_type": "markdown",
   "metadata": {},
   "source": [
    "The target variable is right skewed. As (linear) models love normally distributed data ,need to transform this variable and make it more normally distributed."
   ]
  },
  {
   "cell_type": "markdown",
   "metadata": {},
   "source": [
    "## Log Transformation of the Target Variable"
   ]
  },
  {
   "cell_type": "code",
   "execution_count": 20,
   "metadata": {},
   "outputs": [
    {
     "name": "stdout",
     "output_type": "stream",
     "text": [
      "\n",
      " mu = 13.19 and sigma = 0.55\n",
      "\n"
     ]
    },
    {
     "data": {
      "image/png": "[encoded data removed]",
      "text/plain": [
       "<Figure size 432x288 with 1 Axes>"
      ]
     },
     "metadata": {},
     "output_type": "display_data"
    },
    {
     "data": {
      "image/png": "[encoded data removed]",
      "text/plain": [
       "<Figure size 432x288 with 1 Axes>"
      ]
     },
     "metadata": {},
     "output_type": "display_data"
    }
   ],
   "source": [
    "#We use the numpy fuction log1p which  applies log(1+x) to all elements of the column\n",
    "data[\"Sale_price\"] = np.log1p(data[\"Sale_price\"])\n",
    "\n",
    "#Check the new distribution \n",
    "sns.distplot(data['Sale_price'] , fit=norm);\n",
    "\n",
    "# Get the fitted parameters used by the function\n",
    "(mu, sigma) = norm.fit(data['Sale_price'])\n",
    "print( '\\n mu = {:.2f} and sigma = {:.2f}\\n'.format(mu, sigma))\n",
    "\n",
    "#Now plot the distribution\n",
    "plt.legend(['Normal dist. ($\\mu=$ {:.2f} and $\\sigma=$ {:.2f} )'.format(mu, sigma)],\n",
    "            loc='best')\n",
    "plt.ylabel('Frequency')\n",
    "plt.title('Sale_price distribution')\n",
    "\n",
    "#Get also the QQ-plot\n",
    "fig = plt.figure()\n",
    "res = stats.probplot(data['Sale_price'], plot=plt)\n",
    "plt.show()"
   ]
  },
  {
   "cell_type": "code",
   "execution_count": 21,
   "metadata": {},
   "outputs": [
    {
     "data": {
      "text/plain": [
       "<seaborn.axisgrid.FacetGrid at 0x1d3ea9466a0>"
      ]
     },
     "execution_count": 21,
     "metadata": {},
     "output_type": "execute_result"
    },
    {
     "data": {
      "image/png": "[encoded data removed]",
      "text/plain": [
       "<Figure size 720x1440 with 7 Axes>"
      ]
     },
     "metadata": {},
     "output_type": "display_data"
    }
   ],
   "source": [
    "def boxplot(x,y,**kwargs):\n",
    "            sns.boxplot(x=x,y=y)\n",
    "            x = plt.xticks(rotation=90)\n",
    "\n",
    "cat = [f for f in data.columns if data.dtypes[f] == 'object']\n",
    "\n",
    "p = pd.melt(data, id_vars='Sale_price', value_vars=cat)\n",
    "g = sns.FacetGrid (p, col='variable', col_wrap=2, sharex=False, sharey=False, size=5)\n",
    "g = g.map(boxplot, 'value','Sale_price')\n",
    "g"
   ]
  },
  {
   "cell_type": "markdown",
   "metadata": {},
   "source": [
    "# Transforming and Feature Engineering"
   ]
  },
  {
   "cell_type": "code",
   "execution_count": 22,
   "metadata": {},
   "outputs": [
    {
     "data": {
      "text/html": [
       "<div>\n",
       "<style scoped>\n",
       "    .dataframe tbody tr th:only-of-type {\n",
       "        vertical-align: middle;\n",
       "    }\n",
       "\n",
       "    .dataframe tbody tr th {\n",
       "        vertical-align: top;\n",
       "    }\n",
       "\n",
       "    .dataframe thead th {\n",
       "        text-align: right;\n",
       "    }\n",
       "</style>\n",
       "<table border=\"1\" class=\"dataframe\">\n",
       "  <thead>\n",
       "    <tr style=\"text-align: right;\">\n",
       "      <th></th>\n",
       "      <th>Sale_price</th>\n",
       "      <th>Bedrooms</th>\n",
       "      <th>Stationdist_miles</th>\n",
       "      <th>Sale_month</th>\n",
       "      <th>Latitude</th>\n",
       "      <th>Longitude</th>\n",
       "      <th>Easting</th>\n",
       "      <th>Northing</th>\n",
       "      <th>Altitude</th>\n",
       "      <th>KT1</th>\n",
       "      <th>...</th>\n",
       "      <th>Coombe Vale</th>\n",
       "      <th>Grove</th>\n",
       "      <th>Norbiton</th>\n",
       "      <th>St Mark's</th>\n",
       "      <th>Tudor</th>\n",
       "      <th>2014</th>\n",
       "      <th>2015</th>\n",
       "      <th>2016</th>\n",
       "      <th>2017</th>\n",
       "      <th>2018</th>\n",
       "    </tr>\n",
       "  </thead>\n",
       "  <tbody>\n",
       "    <tr>\n",
       "      <th>0</th>\n",
       "      <td>12.983104</td>\n",
       "      <td>2</td>\n",
       "      <td>0.4</td>\n",
       "      <td>10</td>\n",
       "      <td>51.412605</td>\n",
       "      <td>-0.367238</td>\n",
       "      <td>13.157369</td>\n",
       "      <td>169535</td>\n",
       "      <td>2.302585</td>\n",
       "      <td>1</td>\n",
       "      <td>...</td>\n",
       "      <td>0</td>\n",
       "      <td>1</td>\n",
       "      <td>0</td>\n",
       "      <td>0</td>\n",
       "      <td>0</td>\n",
       "      <td>0</td>\n",
       "      <td>1</td>\n",
       "      <td>0</td>\n",
       "      <td>0</td>\n",
       "      <td>0</td>\n",
       "    </tr>\n",
       "    <tr>\n",
       "      <th>1</th>\n",
       "      <td>14.074022</td>\n",
       "      <td>4</td>\n",
       "      <td>0.4</td>\n",
       "      <td>2</td>\n",
       "      <td>51.412605</td>\n",
       "      <td>-0.367238</td>\n",
       "      <td>13.157369</td>\n",
       "      <td>169535</td>\n",
       "      <td>2.302585</td>\n",
       "      <td>1</td>\n",
       "      <td>...</td>\n",
       "      <td>0</td>\n",
       "      <td>1</td>\n",
       "      <td>0</td>\n",
       "      <td>0</td>\n",
       "      <td>0</td>\n",
       "      <td>0</td>\n",
       "      <td>0</td>\n",
       "      <td>1</td>\n",
       "      <td>0</td>\n",
       "      <td>0</td>\n",
       "    </tr>\n",
       "    <tr>\n",
       "      <th>2</th>\n",
       "      <td>13.217675</td>\n",
       "      <td>2</td>\n",
       "      <td>0.4</td>\n",
       "      <td>10</td>\n",
       "      <td>51.412605</td>\n",
       "      <td>-0.367238</td>\n",
       "      <td>13.157369</td>\n",
       "      <td>169535</td>\n",
       "      <td>2.302585</td>\n",
       "      <td>1</td>\n",
       "      <td>...</td>\n",
       "      <td>0</td>\n",
       "      <td>1</td>\n",
       "      <td>0</td>\n",
       "      <td>0</td>\n",
       "      <td>0</td>\n",
       "      <td>0</td>\n",
       "      <td>0</td>\n",
       "      <td>0</td>\n",
       "      <td>1</td>\n",
       "      <td>0</td>\n",
       "    </tr>\n",
       "    <tr>\n",
       "      <th>3</th>\n",
       "      <td>13.217675</td>\n",
       "      <td>5</td>\n",
       "      <td>0.4</td>\n",
       "      <td>4</td>\n",
       "      <td>51.412605</td>\n",
       "      <td>-0.367238</td>\n",
       "      <td>13.157369</td>\n",
       "      <td>169535</td>\n",
       "      <td>2.302585</td>\n",
       "      <td>1</td>\n",
       "      <td>...</td>\n",
       "      <td>0</td>\n",
       "      <td>1</td>\n",
       "      <td>0</td>\n",
       "      <td>0</td>\n",
       "      <td>0</td>\n",
       "      <td>0</td>\n",
       "      <td>0</td>\n",
       "      <td>0</td>\n",
       "      <td>0</td>\n",
       "      <td>1</td>\n",
       "    </tr>\n",
       "    <tr>\n",
       "      <th>4</th>\n",
       "      <td>11.875838</td>\n",
       "      <td>2</td>\n",
       "      <td>0.4</td>\n",
       "      <td>10</td>\n",
       "      <td>51.412605</td>\n",
       "      <td>-0.367238</td>\n",
       "      <td>13.157369</td>\n",
       "      <td>169535</td>\n",
       "      <td>2.302585</td>\n",
       "      <td>1</td>\n",
       "      <td>...</td>\n",
       "      <td>0</td>\n",
       "      <td>1</td>\n",
       "      <td>0</td>\n",
       "      <td>0</td>\n",
       "      <td>0</td>\n",
       "      <td>0</td>\n",
       "      <td>0</td>\n",
       "      <td>1</td>\n",
       "      <td>0</td>\n",
       "      <td>0</td>\n",
       "    </tr>\n",
       "  </tbody>\n",
       "</table>\n",
       "<p>5 rows × 31 columns</p>\n",
       "</div>"
      ],
      "text/plain": [
       "   Sale_price  Bedrooms  Stationdist_miles Sale_month   Latitude  Longitude  \\\n",
       "0   12.983104         2                0.4         10  51.412605  -0.367238   \n",
       "1   14.074022         4                0.4          2  51.412605  -0.367238   \n",
       "2   13.217675         2                0.4         10  51.412605  -0.367238   \n",
       "3   13.217675         5                0.4          4  51.412605  -0.367238   \n",
       "4   11.875838         2                0.4         10  51.412605  -0.367238   \n",
       "\n",
       "     Easting  Northing  Altitude  KT1  ...   Coombe Vale  Grove  Norbiton  \\\n",
       "0  13.157369    169535  2.302585    1  ...             0      1         0   \n",
       "1  13.157369    169535  2.302585    1  ...             0      1         0   \n",
       "2  13.157369    169535  2.302585    1  ...             0      1         0   \n",
       "3  13.157369    169535  2.302585    1  ...             0      1         0   \n",
       "4  13.157369    169535  2.302585    1  ...             0      1         0   \n",
       "\n",
       "   St Mark's  Tudor  2014  2015  2016  2017  2018  \n",
       "0          0      0     0     1     0     0     0  \n",
       "1          0      0     0     0     1     0     0  \n",
       "2          0      0     0     0     0     1     0  \n",
       "3          0      0     0     0     0     0     1  \n",
       "4          0      0     0     0     1     0     0  \n",
       "\n",
       "[5 rows x 31 columns]"
      ]
     },
     "execution_count": 22,
     "metadata": {},
     "output_type": "execute_result"
    }
   ],
   "source": [
    "# Get one hot encoding of columns KT1_KT2\n",
    "one_hot = pd.get_dummies(data['KT1_KT2'])\n",
    "# Drop column KT1_KT2 as it is now encoded\n",
    "data = data.drop('KT1_KT2',axis = 1)\n",
    "# Join the encoded data\n",
    "data = data.join(one_hot)\n",
    "\n",
    "# Get one hot encoding of columns House_type\n",
    "one_hot = pd.get_dummies(data['House_type'])\n",
    "# Drop column House_type as it is now encoded\n",
    "data = data.drop('House_type',axis = 1)\n",
    "# Join the encoded data\n",
    "data = data.join(one_hot)\n",
    "\n",
    "\n",
    "# Get one hot encoding of columns Freehold_leasehold\n",
    "one_hot = pd.get_dummies(data['Freehold_leasehold'])\n",
    "# Drop column Freehold_leasehold as it is now encoded\n",
    "data = data.drop('Freehold_leasehold',axis = 1)\n",
    "# Join the encoded data\n",
    "data = data.join(one_hot)\n",
    "\n",
    "# Get one hot encoding of columns Res_new_old\n",
    "one_hot = pd.get_dummies(data['Res_new_old'])\n",
    "# Drop column Res_new_old as it is now encoded\n",
    "data = data.drop('Res_new_old',axis = 1)\n",
    "# Join the encoded data\n",
    "data = data.join(one_hot)\n",
    "\n",
    "# Get one hot encoding of columns Ward\n",
    "one_hot = pd.get_dummies(data['Ward'])\n",
    "# Drop column Ward as it is now encoded\n",
    "data = data.drop('Ward',axis = 1)\n",
    "# Join the encoded data\n",
    "data = data.join(one_hot)\n",
    "\n",
    "\n",
    "# Get one hot encoding of columns Sale_year\n",
    "one_hot = pd.get_dummies(data['Sale_year'])\n",
    "# Drop column Sale_year as it is now encoded\n",
    "data = data.drop('Sale_year',axis = 1)\n",
    "# Join the encoded data\n",
    "data = data.join(one_hot)\n",
    "\n",
    "data.head(5)"
   ]
  },
  {
   "cell_type": "code",
   "execution_count": 23,
   "metadata": {},
   "outputs": [
    {
     "data": {
      "text/plain": [
       "(3223, 31)"
      ]
     },
     "execution_count": 23,
     "metadata": {},
     "output_type": "execute_result"
    }
   ],
   "source": [
    "data.shape"
   ]
  },
  {
   "cell_type": "code",
   "execution_count": 24,
   "metadata": {},
   "outputs": [
    {
     "data": {
      "text/plain": [
       "Sale_month    object\n",
       "dtype: object"
      ]
     },
     "execution_count": 24,
     "metadata": {},
     "output_type": "execute_result"
    }
   ],
   "source": [
    "#columns with data type as object\n",
    "data_object=data.select_dtypes(include=['object']).copy()\n",
    "data_object.dtypes"
   ]
  },
  {
   "cell_type": "code",
   "execution_count": 25,
   "metadata": {},
   "outputs": [
    {
     "data": {
      "text/plain": [
       "Sale_price                 float64\n",
       "Bedrooms                     int64\n",
       "Stationdist_miles          float64\n",
       "Latitude                   float64\n",
       "Longitude                  float64\n",
       "Easting                    float64\n",
       "Northing                     int64\n",
       "Altitude                   float64\n",
       "KT1                          uint8\n",
       "KT2                          uint8\n",
       "Detached                     uint8\n",
       "Flat                         uint8\n",
       "Semi-Detached                uint8\n",
       "Terraced                     uint8\n",
       "Freehold                     uint8\n",
       "Leasehold                    uint8\n",
       "Residential                  uint8\n",
       "Residential (New Build)      uint8\n",
       "Canbury                      uint8\n",
       "Coombe Hill                  uint8\n",
       "Coombe Vale                  uint8\n",
       "Grove                        uint8\n",
       "Norbiton                     uint8\n",
       "St Mark's                    uint8\n",
       "Tudor                        uint8\n",
       "2014                         uint8\n",
       "2015                         uint8\n",
       "2016                         uint8\n",
       "2017                         uint8\n",
       "2018                         uint8\n",
       "dtype: object"
      ]
     },
     "execution_count": 25,
     "metadata": {},
     "output_type": "execute_result"
    }
   ],
   "source": [
    "#all numerical columns\n",
    "data_numerical=data.select_dtypes( include=[np.number])\n",
    "data_numerical.dtypes"
   ]
  },
  {
   "cell_type": "code",
   "execution_count": 26,
   "metadata": {},
   "outputs": [
    {
     "data": {
      "text/plain": [
       "count    3223.000000\n",
       "mean       13.190386\n",
       "std         0.549986\n",
       "min        11.448398\n",
       "25%        12.793862\n",
       "50%        13.151924\n",
       "75%        13.541075\n",
       "max        15.955577\n",
       "Name: Sale_price, dtype: float64"
      ]
     },
     "execution_count": 26,
     "metadata": {},
     "output_type": "execute_result"
    }
   ],
   "source": [
    "data.Sale_price.describe()"
   ]
  },
  {
   "cell_type": "markdown",
   "metadata": {},
   "source": [
    "## Data Correlation"
   ]
  },
  {
   "cell_type": "code",
   "execution_count": 27,
   "metadata": {},
   "outputs": [
    {
     "name": "stdout",
     "output_type": "stream",
     "text": [
      "Sale_price           1.000000\n",
      "Freehold             0.659066\n",
      "Bedrooms             0.576059\n",
      "Detached             0.548008\n",
      "Northing             0.293081\n",
      "Latitude             0.290122\n",
      "Semi-Detached        0.269065\n",
      "Stationdist_miles    0.252090\n",
      "KT2                  0.195479\n",
      "Longitude            0.183843\n",
      "Easting              0.179506\n",
      "Tudor                0.161851\n",
      "Coombe Hill          0.146771\n",
      "Altitude             0.126193\n",
      "Terraced             0.100733\n",
      "Name: Sale_price, dtype: float64 \n",
      "\n",
      "Residential (New Build)   -0.052640\n",
      "2014                      -0.075785\n",
      "Grove                     -0.134843\n",
      "Norbiton                  -0.193592\n",
      "KT1                       -0.195479\n",
      "Flat                      -0.652892\n",
      "Leasehold                 -0.659066\n",
      "Name: Sale_price, dtype: float64\n"
     ]
    }
   ],
   "source": [
    "corr = data_numerical.corr()\n",
    "\n",
    "print (corr['Sale_price'].sort_values(ascending=False)[:15], '\\n')\n",
    "print (corr['Sale_price'].sort_values(ascending=False)[-7:])"
   ]
  },
  {
   "cell_type": "markdown",
   "metadata": {},
   "source": [
    "# MODELLING"
   ]
  },
  {
   "cell_type": "markdown",
   "metadata": {},
   "source": [
    "separate the features and the target variable for modeling<br>\n",
    "\n"
   ]
  },
  {
   "cell_type": "code",
   "execution_count": 28,
   "metadata": {},
   "outputs": [],
   "source": [
    "y = data_numerical.Sale_price#transforms the y variable for the model\n",
    "X = data_numerical.drop(['Sale_price'], axis=1)\n",
    "# X denotes the set of predictor data, and y is the target variable."
   ]
  },
  {
   "cell_type": "code",
   "execution_count": 29,
   "metadata": {},
   "outputs": [],
   "source": [
    "#partitioning the data and to start modeling\n",
    "\n",
    "X_train, X_test, y_train, y_test = train_test_split(\n",
    "                                    X, y, random_state=42, test_size=.2)"
   ]
  },
  {
   "cell_type": "markdown",
   "metadata": {},
   "source": [
    "train_test_split() returns four objects:<br>\n",
    "\n",
    "X_train is the subset of our features used for training.<br>\n",
    "X_test is the subset which will be our 'hold-out' set - what we'll use to test the model.<br>\n",
    "y_train is the target variable SalePrice which corresponds to X_train.<br>\n",
    "y_test is the target variable SalePrice which corresponds to X_test.<br>"
   ]
  },
  {
   "cell_type": "markdown",
   "metadata": {},
   "source": [
    "fit the model using X_train and y_train, and we'll score with X_test and y_test. The lr.fit() method will fit the linear regression on the features and target variable that we pass."
   ]
  },
  {
   "cell_type": "code",
   "execution_count": 30,
   "metadata": {},
   "outputs": [],
   "source": [
    "#linear model\n",
    "lr = linear_model.LinearRegression()\n",
    "model = lr.fit(X_train, y_train)"
   ]
  },
  {
   "cell_type": "code",
   "execution_count": 31,
   "metadata": {},
   "outputs": [
    {
     "name": "stdout",
     "output_type": "stream",
     "text": [
      "0.6850616322844376\n"
     ]
    }
   ],
   "source": [
    "\n",
    "accuracies = cross_val_score(estimator=lr, X=X_train, y=y_train, cv=10)\n",
    "print(accuracies.mean())"
   ]
  },
  {
   "cell_type": "markdown",
   "metadata": {},
   "source": [
    "The r-squared value is a measure of how close the data are to the fitted regression line. It takes a value between 0 and 1, 1 meaning that all of the variance in the target is explained by the data. In general, a higher r-squared value means a better fit."
   ]
  },
  {
   "cell_type": "code",
   "execution_count": 32,
   "metadata": {},
   "outputs": [
    {
     "name": "stdout",
     "output_type": "stream",
     "text": [
      "R^2 is: \n",
      " 0.6504119248624326\n"
     ]
    }
   ],
   "source": [
    "print (\"R^2 is: \\n\", model.score(X_test, y_test))"
   ]
  },
  {
   "cell_type": "code",
   "execution_count": 33,
   "metadata": {},
   "outputs": [],
   "source": [
    "predictions = model.predict(X_test)"
   ]
  },
  {
   "cell_type": "code",
   "execution_count": 34,
   "metadata": {},
   "outputs": [
    {
     "name": "stdout",
     "output_type": "stream",
     "text": [
      "RMSE is: \n",
      " 0.103851397603704\n"
     ]
    }
   ],
   "source": [
    "#The RMSE measures the distance between our predicted values and actual values.\n",
    "from sklearn.metrics import mean_squared_error\n",
    "print ('RMSE is: \\n', mean_squared_error(y_test, predictions))"
   ]
  },
  {
   "cell_type": "markdown",
   "metadata": {},
   "source": [
    "# Building a model with gradient boosting regressor\n"
   ]
  },
  {
   "cell_type": "code",
   "execution_count": 35,
   "metadata": {},
   "outputs": [
    {
     "name": "stdout",
     "output_type": "stream",
     "text": [
      "R^2 for test is: \n",
      " 0.7839997085213248\n",
      "R^2\n"
     ]
    }
   ],
   "source": [
    "GBR=GradientBoostingRegressor()\n",
    "model=GBR.fit(X_train,y_train)\n",
    "print (\"R^2 for test is: \\n\", model.score(X_test, y_test))\n",
    "print(\"R^2\")"
   ]
  },
  {
   "cell_type": "code",
   "execution_count": 36,
   "metadata": {},
   "outputs": [
    {
     "name": "stdout",
     "output_type": "stream",
     "text": [
      "RMSE is: \n",
      " 0.06416675438382902\n"
     ]
    }
   ],
   "source": [
    "predictions = model.predict(X_test)\n",
    "print ('RMSE is: \\n', mean_squared_error(y_test, predictions))"
   ]
  },
  {
   "cell_type": "code",
   "execution_count": 37,
   "metadata": {},
   "outputs": [
    {
     "data": {
      "image/png": "[encoded data removed]",
      "text/plain": [
       "<Figure size 432x288 with 1 Axes>"
      ]
     },
     "metadata": {},
     "output_type": "display_data"
    }
   ],
   "source": [
    "actual_values = y_test\n",
    "plt.scatter(predictions, actual_values, alpha=.75,\n",
    "            color='b') #alpha helps to show overlapping data\n",
    "plt.xlabel('Predicted Price')\n",
    "plt.ylabel('Actual Price')\n",
    "plt.title('Gradient Boosting Regressor')\n",
    "plt.show()"
   ]
  },
  {
   "cell_type": "code",
   "execution_count": 38,
   "metadata": {},
   "outputs": [
    {
     "name": "stdout",
     "output_type": "stream",
     "text": [
      "Feature Importances\n",
      "[1.32751804e-01 3.70611020e-02 1.00527586e-01 1.46981350e-01\n",
      " 1.38407675e-01 7.72998998e-02 8.22592764e-02 0.00000000e+00\n",
      " 0.00000000e+00 4.06847702e-02 2.55369776e-02 1.54305961e-02\n",
      " 6.28364780e-03 4.00467440e-02 4.77452718e-02 8.74104531e-03\n",
      " 8.11191030e-03 0.00000000e+00 1.49024077e-03 0.00000000e+00\n",
      " 2.52752833e-03 1.17639600e-02 6.13559174e-03 3.81025568e-03\n",
      " 2.28193053e-02 1.33821022e-02 1.98736767e-02 1.03169690e-02\n",
      " 1.07142023e-05]\n"
     ]
    }
   ],
   "source": [
    "print (\"Feature Importances\")\n",
    "print (GBR.feature_importances_)"
   ]
  },
  {
   "cell_type": "code",
   "execution_count": 40,
   "metadata": {
    "scrolled": true
   },
   "outputs": [
    {
     "name": "stdout",
     "output_type": "stream",
     "text": [
      "Top 10 Important Features\n",
      "\n",
      "1. Longitude (0.146981)\n",
      "2. Easting (0.138408)\n",
      "3. Bedrooms (0.132752)\n",
      "4. Latitude (0.100528)\n",
      "5. Altitude (0.082259)\n",
      "6. Northing (0.077300)\n",
      "7. Leasehold (0.047745)\n",
      "8. Detached (0.040685)\n",
      "9. Freehold (0.040047)\n",
      "10. Stationdist_miles (0.037061)\n"
     ]
    }
   ],
   "source": [
    "# Calculate the feature ranking - Top 10 \n",
    "importances = GBR.feature_importances_ \n",
    "indices = np.argsort(importances)[::-1] \n",
    "\n",
    "print(\"Top 10 Important Features\\n\")\n",
    "\n",
    "for f in range(10): \n",
    "    print(\"%d. %s (%f)\" % (f + 1, X.columns[indices[f]], importances[indices[f]])) "
   ]
  },
  {
   "cell_type": "markdown",
   "metadata": {},
   "source": [
    "# Model parameter tuning with pipeline"
   ]
  },
  {
   "cell_type": "code",
   "execution_count": 41,
   "metadata": {},
   "outputs": [
    {
     "name": "stdout",
     "output_type": "stream",
     "text": [
      "model R2 score: 0.629\n",
      "RMSE: 0.332\n"
     ]
    }
   ],
   "source": [
    "# Append classifier to preprocessing pipeline.\n",
    "# Now we have a full prediction pipeline.\n",
    "pipeline = Pipeline(steps=[('regressor', Ridge())])\n",
    "\n",
    "\n",
    "pipeline.fit(X_train, y_train)\n",
    "print(\"model R2 score: %.3f\" % pipeline.score(X_test, y_test))\n",
    "print(\"RMSE: %.3f\" % np.sqrt(mean_squared_error(y_test,pipeline.predict(X_test))))\n",
    "\n",
    "kfold = 5\n",
    "scoring = ['r2','neg_mean_squared_error']\n",
    "results = cross_validate(pipeline, X, y, cv=kfold, return_train_score=True,scoring=scoring)"
   ]
  },
  {
   "cell_type": "code",
   "execution_count": 42,
   "metadata": {},
   "outputs": [
    {
     "name": "stdout",
     "output_type": "stream",
     "text": [
      "model R2 score: 0.630\n",
      "RMSE: 0.332\n"
     ]
    }
   ],
   "source": [
    "pipeline = Pipeline(steps=[('regressor', KernelRidge())])\n",
    "\n",
    "\n",
    "pipeline.fit(X_train, y_train)\n",
    "print(\"model R2 score: %.3f\" % pipeline.score(X_test, y_test))\n",
    "print(\"RMSE: %.3f\" % np.sqrt(mean_squared_error(y_test,pipeline.predict(X_test))))\n",
    "\n",
    "kfold = 5\n",
    "scoring = ['r2','neg_mean_squared_error']\n",
    "results = cross_validate(pipeline, X, y, cv=kfold, return_train_score=True,scoring=scoring)"
   ]
  },
  {
   "cell_type": "code",
   "execution_count": 43,
   "metadata": {},
   "outputs": [
    {
     "name": "stdout",
     "output_type": "stream",
     "text": [
      "model R2 score: 0.761\n",
      "RMSE: 0.266\n"
     ]
    }
   ],
   "source": [
    "pipeline = Pipeline(steps=[('regressor', RandomForestRegressor())])\n",
    "\n",
    "\n",
    "pipeline.fit(X_train, y_train)\n",
    "print(\"model R2 score: %.3f\" % pipeline.score(X_test, y_test))\n",
    "print(\"RMSE: %.3f\" % np.sqrt(mean_squared_error(y_test,pipeline.predict(X_test))))\n",
    "\n",
    "kfold = 5\n",
    "scoring = ['r2','neg_mean_squared_error']\n",
    "results = cross_validate(pipeline, X, y, cv=kfold, return_train_score=True,scoring=scoring)"
   ]
  },
  {
   "cell_type": "code",
   "execution_count": 44,
   "metadata": {},
   "outputs": [
    {
     "name": "stdout",
     "output_type": "stream",
     "text": [
      "model R2 score: 0.487\n",
      "RMSE: 0.390\n"
     ]
    }
   ],
   "source": [
    "pipeline = Pipeline(steps=[('regressor', ElasticNet(alpha=0.05, l1_ratio=.9, random_state=3))])\n",
    "\n",
    "\n",
    "pipeline.fit(X_train, y_train)\n",
    "print(\"model R2 score: %.3f\" % pipeline.score(X_test, y_test))\n",
    "print(\"RMSE: %.3f\" % np.sqrt(mean_squared_error(y_test,pipeline.predict(X_test))))\n",
    "\n",
    "kfold = 5\n",
    "scoring = ['r2','neg_mean_squared_error']\n",
    "results = cross_validate(pipeline, X, y, cv=kfold, return_train_score=True,scoring=scoring)"
   ]
  },
  {
   "cell_type": "code",
   "execution_count": 45,
   "metadata": {},
   "outputs": [
    {
     "name": "stdout",
     "output_type": "stream",
     "text": [
      "model R2 score: 0.336\n",
      "RMSE: 0.444\n"
     ]
    }
   ],
   "source": [
    "pipeline = Pipeline(steps=[('regressor', Lasso(alpha=0.1,max_iter=1000,tol=0.0001))])\n",
    "\n",
    "\n",
    "pipeline.fit(X_train, y_train)\n",
    "print(\"model R2 score: %.3f\" % pipeline.score(X_test, y_test))\n",
    "print(\"RMSE: %.3f\" % np.sqrt(mean_squared_error(y_test,pipeline.predict(X_test))))\n",
    "\n",
    "kfold = 5\n",
    "scoring = ['r2','neg_mean_squared_error']\n",
    "results = cross_validate(pipeline, X, y, cv=kfold, return_train_score=True,scoring=scoring)"
   ]
  },
  {
   "cell_type": "code",
   "execution_count": 46,
   "metadata": {},
   "outputs": [
    {
     "name": "stdout",
     "output_type": "stream",
     "text": [
      "model R2 score: 0.802\n",
      "RMSE: 0.242\n"
     ]
    }
   ],
   "source": [
    "pipeline = Pipeline(steps=[('regressor', xgb.XGBRegressor(colsample_bytree=0.4603, gamma=0.0468, \n",
    "                             learning_rate=0.05, max_depth=3, \n",
    "                             min_child_weight=1.7817, n_estimators=2200,\n",
    "                             reg_alpha=0.4640, reg_lambda=0.8571,\n",
    "                             subsample=0.5213, silent=1,\n",
    "                             random_state =7, nthread = -1))])\n",
    "\n",
    "\n",
    "pipeline.fit(X_train, y_train)\n",
    "print(\"model R2 score: %.3f\" % pipeline.score(X_test, y_test))\n",
    "print(\"RMSE: %.3f\" % np.sqrt(mean_squared_error(y_test,pipeline.predict(X_test))))\n",
    "\n",
    "kfold = 5\n",
    "scoring = ['r2','neg_mean_squared_error']\n",
    "results = cross_validate(pipeline, X, y, cv=kfold, return_train_score=True,scoring=scoring)"
   ]
  },
  {
   "cell_type": "code",
   "execution_count": 47,
   "metadata": {},
   "outputs": [
    {
     "name": "stdout",
     "output_type": "stream",
     "text": [
      "model R2 score: 0.808\n",
      "RMSE: 0.239\n"
     ]
    }
   ],
   "source": [
    "pipeline = Pipeline(steps=[('regressor', GradientBoostingRegressor(n_estimators=3000, learning_rate=0.05,\n",
    "                                   max_depth=4, max_features='sqrt',\n",
    "                                   min_samples_leaf=15, min_samples_split=10, \n",
    "                                   loss='huber', random_state =5))])\n",
    "\n",
    "\n",
    "pipeline.fit(X_train, y_train)\n",
    "gbr_preds=pipeline.predict(X_test)\n",
    "print(\"model R2 score: %.3f\" % pipeline.score(X_test, y_test))\n",
    "print(\"RMSE: %.3f\" % np.sqrt(mean_squared_error(y_test,gbr_preds)))\n",
    "\n",
    "kfold = 5\n",
    "scoring = ['r2','neg_mean_squared_error']\n",
    "results = cross_validate(pipeline, X, y, cv=kfold, return_train_score=True,scoring=scoring)"
   ]
  },
  {
   "cell_type": "code",
   "execution_count": 48,
   "metadata": {},
   "outputs": [
    {
     "data": {
      "image/png": "[encoded data removed]",
      "text/plain": [
       "<Figure size 432x288 with 1 Axes>"
      ]
     },
     "metadata": {},
     "output_type": "display_data"
    }
   ],
   "source": [
    "actual_values = y_test\n",
    "plt.scatter(gbr_preds, actual_values, alpha=.75,\n",
    "            color='b') #alpha helps to show overlapping data\n",
    "plt.xlabel('Predicted Price')\n",
    "plt.ylabel('Actual Price')\n",
    "plt.title('Gradient Boosting Regressor')\n",
    "plt.show()"
   ]
  },
  {
   "cell_type": "code",
   "execution_count": null,
   "metadata": {},
   "outputs": [],
   "source": [
    "results"
   ]
  },
  {
   "cell_type": "markdown",
   "metadata": {},
   "source": [
    "## Submission"
   ]
  },
  {
   "cell_type": "markdown",
   "metadata": {},
   "source": [
    "to create a csv that contains the predicted SalePrice for each observation in the data.csv dataset"
   ]
  },
  {
   "cell_type": "code",
   "execution_count": null,
   "metadata": {},
   "outputs": [],
   "source": [
    "submission = pd.DataFrame()\n",
    "submission['Address'] = data_ID"
   ]
  },
  {
   "cell_type": "code",
   "execution_count": null,
   "metadata": {},
   "outputs": [],
   "source": []
  }
 ],
 "metadata": {
  "kernelspec": {
   "display_name": "Python 3",
   "language": "python",
   "name": "python3"
  },
  "language_info": {
   "codemirror_mode": {
    "name": "ipython",
    "version": 3
   },
   "file_extension": ".py",
   "mimetype": "text/x-python",
   "name": "python",
   "nbconvert_exporter": "python",
   "pygments_lexer": "ipython3",
   "version": "3.6.5"
  }
 },
 "nbformat": 4,
 "nbformat_minor": 2
}
